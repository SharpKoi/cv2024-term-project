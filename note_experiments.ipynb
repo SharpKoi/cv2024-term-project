{
 "cells": [
  {
   "cell_type": "code",
   "execution_count": 1,
   "id": "952d8d49-002d-4986-94ae-f0da86bdb27a",
   "metadata": {},
   "outputs": [],
   "source": [
    "import os\n",
    "import json\n",
    "\n",
    "import numpy as np\n",
    "from tqdm.auto import tqdm\n",
    "\n",
    "import torch\n",
    "import torch.nn as nn\n",
    "import torch.nn.functional as F\n",
    "import torchvision"
   ]
  },
  {
   "cell_type": "code",
   "execution_count": 2,
   "id": "7db94797-9b61-4e63-87ac-208174ddc7c3",
   "metadata": {},
   "outputs": [],
   "source": [
    "device = \"cuda\" if torch.cuda.is_available() else \"cpu\""
   ]
  },
  {
   "cell_type": "code",
   "execution_count": 7,
   "id": "7c9b4bbb-9b29-48aa-baf0-b084c802dee2",
   "metadata": {
    "scrolled": true
   },
   "outputs": [],
   "source": [
    "model = torchvision.models.efficientnet_v2_m()\n",
    "model = model.to(device)"
   ]
  },
  {
   "cell_type": "code",
   "execution_count": 13,
   "id": "c8c92c57-caf8-4224-9119-3aa02e00e9e4",
   "metadata": {
    "scrolled": true
   },
   "outputs": [],
   "source": [
    "x = torch.rand(4, 3, 512, 512).to(device)"
   ]
  },
  {
   "cell_type": "code",
   "execution_count": 14,
   "id": "621e673b-a8a7-43c1-90ac-83dcbebca222",
   "metadata": {},
   "outputs": [],
   "source": [
    "h = model.features[:-1](x)"
   ]
  },
  {
   "cell_type": "code",
   "execution_count": 15,
   "id": "da5a6429-fa70-4974-90ea-9f445a1a4619",
   "metadata": {},
   "outputs": [
    {
     "data": {
      "text/plain": [
       "torch.Size([4, 512, 16, 16])"
      ]
     },
     "execution_count": 15,
     "metadata": {},
     "output_type": "execute_result"
    }
   ],
   "source": [
    "h.size()"
   ]
  }
 ],
 "metadata": {
  "kernelspec": {
   "display_name": "Python 3 (ipykernel)",
   "language": "python",
   "name": "python3"
  },
  "language_info": {
   "codemirror_mode": {
    "name": "ipython",
    "version": 3
   },
   "file_extension": ".py",
   "mimetype": "text/x-python",
   "name": "python",
   "nbconvert_exporter": "python",
   "pygments_lexer": "ipython3",
   "version": "3.8.0"
  },
  "widgets": {
   "application/vnd.jupyter.widget-state+json": {
    "state": {},
    "version_major": 2,
    "version_minor": 0
   }
  }
 },
 "nbformat": 4,
 "nbformat_minor": 5
}
