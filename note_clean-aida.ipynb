{
 "cells": [
  {
   "cell_type": "code",
   "execution_count": 1,
   "id": "acd72c3a-a783-40b8-a396-f9f9e9f15ad2",
   "metadata": {},
   "outputs": [],
   "source": [
    "import os\n",
    "import json\n",
    "\n",
    "from tqdm.auto import tqdm\n",
    "\n",
    "import numpy as np\n",
    "\n",
    "import ast\n",
    "from PIL import Image\n",
    "from io import BytesIO"
   ]
  },
  {
   "cell_type": "code",
   "execution_count": 2,
   "id": "4b93b7ba-1dc9-44f5-99d4-081bc9dd6efd",
   "metadata": {},
   "outputs": [],
   "source": [
    "DATA_DIR = \"data/cleaned_aida\""
   ]
  },
  {
   "cell_type": "code",
   "execution_count": 3,
   "id": "253c0b56-67ca-461a-81d0-1e74d42c2352",
   "metadata": {},
   "outputs": [],
   "source": [
    "def string_to_bytes(string):\n",
    "    return ast.literal_eval(string)\n",
    "\n",
    "def parse_masks(png_mask_strs):\n",
    "    masks = []\n",
    "    for mask_str in png_mask_strs:\n",
    "        mask_bytes = string_to_bytes(mask_str)\n",
    "        mask = Image.open(BytesIO(mask_bytes))\n",
    "        mask = mask.convert(\"L\")\n",
    "        masks.append(mask.getdata())\n",
    "    \n",
    "    return masks\n",
    "\n",
    "def construct_masked_image(image_data):\n",
    "    w, h = image_data[\"width\"], image_data[\"height\"]\n",
    "    masks = parse_masks(image_data[\"png_masks\"])\n",
    "\n",
    "    masked_image = Image.new(mode=\"L\", size=(w, h))\n",
    "    base_mask = [0 for _ in range(w * h)]\n",
    "    for mask in masks:\n",
    "        for idx, m in enumerate(mask):\n",
    "            if m != 0:\n",
    "                base_mask[idx] = m\n",
    "    masked_image.putdata(base_mask)\n",
    "    \n",
    "    return masked_image"
   ]
  },
  {
   "cell_type": "code",
   "execution_count": 6,
   "id": "da0a5b68-50af-4235-818d-1263c71d6f80",
   "metadata": {
    "editable": true,
    "scrolled": true,
    "slideshow": {
     "slide_type": ""
    },
    "tags": []
   },
   "outputs": [
    {
     "data": {
      "application/vnd.jupyter.widget-view+json": {
       "model_id": "185810424ee94325993016dba7c13935",
       "version_major": 2,
       "version_minor": 0
      },
      "text/plain": [
       "  0%|          | 0/10003 [00:00<?, ?it/s]"
      ]
     },
     "metadata": {},
     "output_type": "display_data"
    }
   ],
   "source": [
    "for filename in tqdm(os.listdir(DATA_DIR)):\n",
    "    fp = os.path.join(DATA_DIR, filename)\n",
    "    if not os.path.isdir(fp):\n",
    "        continue\n",
    "    \n",
    "    masked_image_path = os.path.join(fp, \"masked_image.png\")\n",
    "    if os.path.exists(masked_image_path):\n",
    "        os.remove(masked_image_path)\n",
    "\n",
    "    with open(os.path.join(fp, \"metadata.json\")) as f:\n",
    "        metadata = json.load(f)\n",
    "    \n",
    "    masked_image = construct_masked_image(metadata['image_data'])\n",
    "    masked_image.save(masked_image_path)"
   ]
  }
 ],
 "metadata": {
  "kernelspec": {
   "display_name": "Python 3 (ipykernel)",
   "language": "python",
   "name": "python3"
  },
  "language_info": {
   "codemirror_mode": {
    "name": "ipython",
    "version": 3
   },
   "file_extension": ".py",
   "mimetype": "text/x-python",
   "name": "python",
   "nbconvert_exporter": "python",
   "pygments_lexer": "ipython3",
   "version": "3.8.0"
  },
  "widgets": {
   "application/vnd.jupyter.widget-state+json": {
    "state": {},
    "version_major": 2,
    "version_minor": 0
   }
  }
 },
 "nbformat": 4,
 "nbformat_minor": 5
}
